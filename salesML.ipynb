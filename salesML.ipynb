{
 "cells": [
  {
   "cell_type": "code",
   "execution_count": null,
   "metadata": {},
   "outputs": [],
   "source": []
  },
  {
   "cell_type": "code",
   "execution_count": null,
   "metadata": {},
   "outputs": [],
   "source": [
    "import requests\n",
    "from bs4 import BeautifulSoup\n",
    "\n",
    "\n",
    "\n",
    "# BeautifulSoup 객체 생성\n",
    "soup = BeautifulSoup(html_content, 'html.parser')\n",
    "\n",
    "# 신용등급 정보를 포함하는 태그들 파싱\n",
    "ratings = soup.select('#svdMainGrid7 tbody tr.rwc_g td')\n",
    "\n",
    "# 신용등급과 날짜를 추출하여 딕셔너리에 저장\n",
    "credit_ratings = {}\n",
    "for index, rating in enumerate(ratings):\n",
    "    agency = [\"KIS\", \"KR\", \"NICE\"][index]\n",
    "    grade, date = rating.text.split('[')\n",
    "    date = date.strip(']')\n",
    "    credit_ratings[agency] = {'grade': grade.strip(), 'date': date}\n",
    "\n",
    "# 결과 출력\n",
    "print(credit_ratings)\n"
   ]
  },
  {
   "cell_type": "code",
   "execution_count": null,
   "metadata": {},
   "outputs": [],
   "source": []
  },
  {
   "cell_type": "code",
   "execution_count": null,
   "metadata": {},
   "outputs": [],
   "source": []
  },
  {
   "cell_type": "code",
   "execution_count": null,
   "metadata": {},
   "outputs": [],
   "source": []
  }
 ],
 "metadata": {
  "language_info": {
   "name": "python"
  }
 },
 "nbformat": 4,
 "nbformat_minor": 2
}
